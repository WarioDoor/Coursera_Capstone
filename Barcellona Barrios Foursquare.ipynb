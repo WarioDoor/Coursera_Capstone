{
 "cells": [
  {
   "cell_type": "markdown",
   "metadata": {},
   "source": [
    "This notebook follows an analysis of Barcelona’s second-hand properties economy. Numerous are analyses of Barcelona's real estate market, a market that is very much influenced by foreign investors, so there tends to be more activity and somewhat different prices than surrounding areas that are not much in demand by foreigners.\n",
    "\n",
    "Urban residential house prices depend on two broad factors:\n",
    "1. tangible factors: characteristics of the house\n",
    "2. intangible factors: neighborhood characteristics, services, and environment. \n",
    "This means that real house prices depend on a number of factors not only on the characteristics of the house but on the characteristics of the residential environment and the location of the house too. The relationship between housing preferences and the characteristics of the neighborhood is complex.\n",
    "It is hard to assess the contribution of the different neighborhood aspects to the property price, because of different attributes of the residential environment show high correlations with each other. It's necessary to consider also that different housing submarkets exist, in which dwellings in one submarket are not realistic substitutes for dwellings in the other. \n",
    "\n",
    "Since the 70's numerous neighborhood externalities have been evaluated for their impact on residential property values, including rail transit stations, greenbelts and open spaces, brownfields, churches and landfills.\n",
    "However, fewer studies (especially in Europe) consider the impact of commercial property development on residential property values.\n",
    "\n",
    "A couple of prime examples of commercial property that impacts property values of a neighborhood positively would be lively nightlife venues, art galleries, or coffee shops. Reports have shown that a smaller, neighborhood movie theater, just as an example, can increase a home’s property value by as much as <a href=\"http://homeguides.sfgate.com/effects-commercial-property-residential-value-7923.html\">14 to 30 percent</a>. Smaller movie theaters are very much welcomed in residential areas, especially if they are in an inner-city, trending neighborhood. Much the same impact can be seen with grocery stores, and homes <a href=\"https://www.zillow.com/research/starbucks-home-value-appreciation-8912/\">near Starbucks locations appreciate</a> faster than the typical U.S. home.\n",
    "\n",
    "This analysis, that can be used by Barcelona house buyers and sellers, real estate agents and invenstors, serves to discover the effects of different venues(obtained using the Foursquare API) on the 2nd-hand housing market.These effects are accounted for at the neighborhood level."
   ]
  },
  {
   "cell_type": "markdown",
   "metadata": {},
   "source": [
    "## 1. Loading Data and Packages"
   ]
  },
  {
   "cell_type": "code",
   "execution_count": 105,
   "metadata": {},
   "outputs": [],
   "source": [
    "# Basic libraries\n",
    "import pandas as pd\n",
    "import numpy as np\n",
    "import re\n",
    "\n",
    "\n",
    "# Web-scraping libraries\n",
    "import requests\n",
    "import lxml.html as lh\n",
    "from bs4 import BeautifulSoup\n",
    "\n",
    "# Plot libraries\n",
    "import matplotlib.pyplot as plt\n",
    "import matplotlib.cm as cm\n",
    "import matplotlib.colors as colors\n",
    "import seaborn as sns\n",
    "%matplotlib inline\n",
    "plt.style.use('bmh')\n",
    "\n",
    "# Geo-rendering library\n",
    "import folium\n",
    "\n",
    "# Iphyton libraries\n",
    "from IPython.display import Image\n",
    "from IPython.core.display import HTML \n",
    "\n",
    "# import kmean for later clustering\n",
    "from sklearn.cluster import KMeans"
   ]
  },
  {
   "cell_type": "code",
   "execution_count": 2,
   "metadata": {},
   "outputs": [
    {
     "name": "stdout",
     "output_type": "stream",
     "text": [
      "Collecting package metadata: done\n",
      "Solving environment: done\n",
      "\n",
      "## Package Plan ##\n",
      "\n",
      "  environment location: /home/jupyterlab/conda\n",
      "\n",
      "  added / updated specs:\n",
      "    - shapely\n",
      "\n",
      "\n",
      "The following packages will be downloaded:\n",
      "\n",
      "    package                    |            build\n",
      "    ---------------------------|-----------------\n",
      "    basemap-1.2.0              |py36h673bf1a_1001        15.1 MB  conda-forge\n",
      "    conda-4.6.8                |           py36_0         876 KB  conda-forge\n",
      "    geos-3.7.1                 |    hf484d3e_1000         1.6 MB  conda-forge\n",
      "    openssl-1.1.1b             |       h14c3975_1         4.0 MB  conda-forge\n",
      "    shapely-1.6.4              |py36h092830f_1002         330 KB  conda-forge\n",
      "    ------------------------------------------------------------\n",
      "                                           Total:        21.9 MB\n",
      "\n",
      "The following NEW packages will be INSTALLED:\n",
      "\n",
      "  shapely            conda-forge/linux-64::shapely-1.6.4-py36h092830f_1002\n",
      "\n",
      "The following packages will be UPDATED:\n",
      "\n",
      "  basemap            anaconda::basemap-1.2.0-py36h705c2d8_0 --> conda-forge::basemap-1.2.0-py36h673bf1a_1001\n",
      "  conda                                        4.6.4-py36_0 --> 4.6.8-py36_0\n",
      "  geos                     pkgs/main::geos-3.6.2-heeff764_2 --> conda-forge::geos-3.7.1-hf484d3e_1000\n",
      "  openssl                              1.1.1a-h14c3975_1000 --> 1.1.1b-h14c3975_1\n",
      "\n",
      "\n",
      "\n",
      "Downloading and Extracting Packages\n",
      "shapely-1.6.4        | 330 KB    | ##################################### | 100% \n",
      "openssl-1.1.1b       | 4.0 MB    | ##################################### | 100% \n",
      "conda-4.6.8          | 876 KB    | ##################################### | 100% \n",
      "geos-3.7.1           | 1.6 MB    | ##################################### | 100% \n",
      "basemap-1.2.0        | 15.1 MB   | ##################################### | 100% \n",
      "Preparing transaction: done\n",
      "Verifying transaction: done\n",
      "Executing transaction: done\n"
     ]
    }
   ],
   "source": [
    "!conda install -c conda-forge shapely --y"
   ]
  },
  {
   "cell_type": "code",
   "execution_count": 244,
   "metadata": {},
   "outputs": [],
   "source": [
    "# planar features library\n",
    "from shapely.geometry import Polygon"
   ]
  },
  {
   "cell_type": "markdown",
   "metadata": {},
   "source": [
    "### Loading price data\n",
    "In the Barcelona's website is possible to find the 2018 average price for 2nd hand houses: http://www.bcn.cat/estadistica/catala/dades/timm/ipreus/hab2mave/evo/t2mab.htm."
   ]
  },
  {
   "cell_type": "code",
   "execution_count": 10,
   "metadata": {},
   "outputs": [],
   "source": [
    "url = 'http://www.bcn.cat/estadistica/catala/dades/timm/ipreus/hab2mave/evo/t2mab.htm'\n",
    "# Create a handle, page, to handle the contents of the website\n",
    "page = requests.get(url)\n",
    "\n",
    "# Store the contents of the website under doc\n",
    "doc = lh.fromstring(page.content)\n",
    "# Parse data that are stored between <tr>..</tr> of HTML\n",
    "tr_elements = doc.xpath('//tr')[9:82]\n",
    "# Create empty list, I will use it to create a df\n",
    "barrios_list=[]\n",
    "\n",
    "# Loop throug the tr elements, use regex to extract relevant informations\n",
    "for t in tr_elements:\n",
    "    string_html= t.text_content()\n",
    "    barrio_id= re.search(\"(\\d+\\.) ([a-zA-Z\\w'\\- ]*)\", string_html).groups()\n",
    "    barrio_num= re.findall('(\\d.\\d{3})', string_html)\n",
    "    if barrio_num != []:\n",
    "        barrios_list.append({'Barrio Id': barrio_id[0], 'Barrio': barrio_id[1], 'Avg Price m2': barrio_num[-1]})\n",
    "    else:\n",
    "        barrios_list.append({'Barrio Id': barrio_id[0], 'Barrio': barrio_id[1], 'Avg Price m2': None})"
   ]
  },
  {
   "cell_type": "markdown",
   "metadata": {},
   "source": [
    "Let's create a dataframe, not all the neigborhoods have a price: i will exclude them"
   ]
  },
  {
   "cell_type": "code",
   "execution_count": 11,
   "metadata": {},
   "outputs": [
    {
     "data": {
      "text/html": [
       "<div>\n",
       "<style scoped>\n",
       "    .dataframe tbody tr th:only-of-type {\n",
       "        vertical-align: middle;\n",
       "    }\n",
       "\n",
       "    .dataframe tbody tr th {\n",
       "        vertical-align: top;\n",
       "    }\n",
       "\n",
       "    .dataframe thead th {\n",
       "        text-align: right;\n",
       "    }\n",
       "</style>\n",
       "<table border=\"1\" class=\"dataframe\">\n",
       "  <thead>\n",
       "    <tr style=\"text-align: right;\">\n",
       "      <th></th>\n",
       "      <th>Barrio</th>\n",
       "      <th>Barrio Id</th>\n",
       "      <th>Avg Price m2</th>\n",
       "    </tr>\n",
       "  </thead>\n",
       "  <tbody>\n",
       "    <tr>\n",
       "      <th>0</th>\n",
       "      <td>el Raval</td>\n",
       "      <td>01</td>\n",
       "      <td>4034</td>\n",
       "    </tr>\n",
       "    <tr>\n",
       "      <th>1</th>\n",
       "      <td>el Barri Gòtic</td>\n",
       "      <td>02</td>\n",
       "      <td>4660</td>\n",
       "    </tr>\n",
       "    <tr>\n",
       "      <th>2</th>\n",
       "      <td>la Barceloneta</td>\n",
       "      <td>03</td>\n",
       "      <td>4815</td>\n",
       "    </tr>\n",
       "    <tr>\n",
       "      <th>3</th>\n",
       "      <td>Sant Pere</td>\n",
       "      <td>04</td>\n",
       "      <td>4689</td>\n",
       "    </tr>\n",
       "    <tr>\n",
       "      <th>4</th>\n",
       "      <td>el Fort Pienc</td>\n",
       "      <td>05</td>\n",
       "      <td>4500</td>\n",
       "    </tr>\n",
       "  </tbody>\n",
       "</table>\n",
       "</div>"
      ],
      "text/plain": [
       "           Barrio Barrio Id  Avg Price m2\n",
       "0        el Raval        01          4034\n",
       "1  el Barri Gòtic        02          4660\n",
       "2  la Barceloneta        03          4815\n",
       "3       Sant Pere        04          4689\n",
       "4   el Fort Pienc        05          4500"
      ]
     },
     "execution_count": 11,
     "metadata": {},
     "output_type": "execute_result"
    }
   ],
   "source": [
    "# creating the df for prices\n",
    "df_house_price= pd.DataFrame(barrios_list, columns= ['Barrio', 'Barrio Id', 'Avg Price m2'])\n",
    "\n",
    "# converting price string(x.xxx) to int\n",
    "df_house_price['Avg Price m2']= df_house_price['Avg Price m2'].str.replace('.', '', regex=False)\n",
    "\n",
    "df_house_price.dropna(inplace= True) # drop neighboord without a price\n",
    "df_house_price['Avg Price m2']= df_house_price['Avg Price m2'].astype(int)\n",
    "\n",
    "# converting barrio_id, inserting liding 0 for less than 2 figures, for Geojson file compatibility\n",
    "df_house_price['Barrio Id']= df_house_price['Barrio Id'].str.replace('.', '').str.zfill(2)\n",
    "\n",
    "df_house_price[:5]"
   ]
  },
  {
   "cell_type": "markdown",
   "metadata": {},
   "source": [
    "### Obtaining neighborhoods coordinates"
   ]
  },
  {
   "cell_type": "markdown",
   "metadata": {},
   "source": [
    "I am going to get the geojson file of the Barcelona's neighborhoods:"
   ]
  },
  {
   "cell_type": "code",
   "execution_count": 12,
   "metadata": {},
   "outputs": [],
   "source": [
    "url= 'https://raw.githubusercontent.com/martgnz/bcn-geodata/master/barris/barris_geo.json'\n",
    "geojson = requests.get(url).json()\n",
    "\n",
    "# Loop through json file, calculate the neighborhoods' centroind\n",
    "poly_list= []\n",
    "for p in geojson['features']:\n",
    "    barrio_poly= {}\n",
    "    barrio_poly['Barrio Id']= p['properties']['C_Barri']\n",
    "    try:\n",
    "        barrio_poly['Latitude']= Polygon(p['geometry']['coordinates'][0]).centroid.y\n",
    "        barrio_poly['Longitude']= Polygon(p['geometry']['coordinates'][0]).centroid.x\n",
    "    except ValueError: # if more than one polygon\n",
    "        barrio_poly['Latitude']= Polygon(p['geometry']['coordinates'][0][0]).centroid.y\n",
    "        barrio_poly['Longitude']= Polygon(p['geometry']['coordinates'][0][0]).centroid.x\n",
    "    poly_list.append(barrio_poly)"
   ]
  },
  {
   "cell_type": "code",
   "execution_count": 13,
   "metadata": {},
   "outputs": [
    {
     "data": {
      "text/html": [
       "<div>\n",
       "<style scoped>\n",
       "    .dataframe tbody tr th:only-of-type {\n",
       "        vertical-align: middle;\n",
       "    }\n",
       "\n",
       "    .dataframe tbody tr th {\n",
       "        vertical-align: top;\n",
       "    }\n",
       "\n",
       "    .dataframe thead th {\n",
       "        text-align: right;\n",
       "    }\n",
       "</style>\n",
       "<table border=\"1\" class=\"dataframe\">\n",
       "  <thead>\n",
       "    <tr style=\"text-align: right;\">\n",
       "      <th></th>\n",
       "      <th>Barrio</th>\n",
       "      <th>Barrio Id</th>\n",
       "      <th>Avg Price m2</th>\n",
       "      <th>Latitude</th>\n",
       "      <th>Longitude</th>\n",
       "    </tr>\n",
       "  </thead>\n",
       "  <tbody>\n",
       "    <tr>\n",
       "      <th>0</th>\n",
       "      <td>el Raval</td>\n",
       "      <td>01</td>\n",
       "      <td>4034</td>\n",
       "      <td>41.378963</td>\n",
       "      <td>2.170491</td>\n",
       "    </tr>\n",
       "    <tr>\n",
       "      <th>1</th>\n",
       "      <td>el Barri Gòtic</td>\n",
       "      <td>02</td>\n",
       "      <td>4660</td>\n",
       "      <td>41.381099</td>\n",
       "      <td>2.177446</td>\n",
       "    </tr>\n",
       "    <tr>\n",
       "      <th>2</th>\n",
       "      <td>la Barceloneta</td>\n",
       "      <td>03</td>\n",
       "      <td>4815</td>\n",
       "      <td>41.377203</td>\n",
       "      <td>2.190159</td>\n",
       "    </tr>\n",
       "  </tbody>\n",
       "</table>\n",
       "</div>"
      ],
      "text/plain": [
       "           Barrio Barrio Id  Avg Price m2   Latitude  Longitude\n",
       "0        el Raval        01          4034  41.378963   2.170491\n",
       "1  el Barri Gòtic        02          4660  41.381099   2.177446\n",
       "2  la Barceloneta        03          4815  41.377203   2.190159"
      ]
     },
     "execution_count": 13,
     "metadata": {},
     "output_type": "execute_result"
    }
   ],
   "source": [
    "df_price_coord= df_house_price.merge(pd.DataFrame(poly_list), how= 'left', on= 'Barrio Id')\n",
    "df_price_coord[:3]\n"
   ]
  }
 ],
 "metadata": {
  "kernelspec": {
   "display_name": "Python 3",
   "language": "python",
   "name": "python3"
  },
  "language_info": {
   "codemirror_mode": {
    "name": "ipython",
    "version": 3
   },
   "file_extension": ".py",
   "mimetype": "text/x-python",
   "name": "python",
   "nbconvert_exporter": "python",
   "pygments_lexer": "ipython3",
   "version": "3.6.8"
  }
 },
 "nbformat": 4,
 "nbformat_minor": 2
}
